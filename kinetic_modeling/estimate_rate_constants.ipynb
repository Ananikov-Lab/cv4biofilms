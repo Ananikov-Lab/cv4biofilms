{
 "cells": [
  {
   "cell_type": "code",
   "execution_count": 9,
   "metadata": {},
   "outputs": [],
   "source": [
    "import matplotlib.pyplot as plt\n",
    "import numpy as np\n",
    "import pandas as pd\n",
    "from scipy.optimize import minimize\n",
    "import matplotlib as mpl \n",
    "%matplotlib inline"
   ]
  },
  {
   "cell_type": "markdown",
   "metadata": {},
   "source": [
    "This notebook shows calculations of kinetic parameters of biofilm growth"
   ]
  },
  {
   "cell_type": "code",
   "execution_count": 2,
   "metadata": {},
   "outputs": [],
   "source": [
    "import numpy as np\n",
    "from scipy.optimize import minimize\n",
    "from sklearn.base import BaseEstimator, RegressorMixin\n",
    "from sklearn.utils.validation import check_X_y, check_array, check_is_fitted\n",
    "\n",
    "class LADRegression(BaseEstimator, RegressorMixin):\n",
    "    def fit(self, X, y):\n",
    "        X, y = check_X_y(X, y)\n",
    "        \n",
    "        d = X.shape[1]\n",
    "        w = np.array([1/8, 1/8, 1/8, 1/8, 2/8, 1/8, 1/16, 1/16])\n",
    "        mae_loss = lambda coefs: np.mean((w*np.abs(y - X@coefs[:-1] - coefs[-1]))**2)\n",
    "        *self.coef_, self.intercept_ = minimize(mae_loss, x0=np.array((d+1)*[0.])).x # the heavy lifting\n",
    "        \n",
    "        return self\n",
    "    \n",
    "    def predict(self, X):\n",
    "        check_is_fitted(self)\n",
    "        X = check_array(X)\n",
    "        \n",
    "        return X@self.coef_ + self.intercept_"
   ]
  },
  {
   "cell_type": "code",
   "execution_count": 3,
   "metadata": {},
   "outputs": [],
   "source": [
    "doc_path = '../data/kinetic_modeling_segmentation_results/ratio_calcs_results.csv'\n",
    "df = pd.read_csv(doc_path)"
   ]
  },
  {
   "cell_type": "code",
   "execution_count": 4,
   "metadata": {},
   "outputs": [
    {
     "data": {
      "text/html": [
       "<div>\n",
       "<style scoped>\n",
       "    .dataframe tbody tr th:only-of-type {\n",
       "        vertical-align: middle;\n",
       "    }\n",
       "\n",
       "    .dataframe tbody tr th {\n",
       "        vertical-align: top;\n",
       "    }\n",
       "\n",
       "    .dataframe thead th {\n",
       "        text-align: right;\n",
       "    }\n",
       "</style>\n",
       "<table border=\"1\" class=\"dataframe\">\n",
       "  <thead>\n",
       "    <tr style=\"text-align: right;\">\n",
       "      <th></th>\n",
       "      <th>t</th>\n",
       "      <th>C</th>\n",
       "      <th>M</th>\n",
       "      <th>Ch</th>\n",
       "      <th>S</th>\n",
       "    </tr>\n",
       "  </thead>\n",
       "  <tbody>\n",
       "    <tr>\n",
       "      <th>0</th>\n",
       "      <td>1</td>\n",
       "      <td>0.458656</td>\n",
       "      <td>0.751390</td>\n",
       "      <td>0.000000</td>\n",
       "      <td>98.743004</td>\n",
       "    </tr>\n",
       "    <tr>\n",
       "      <th>1</th>\n",
       "      <td>3</td>\n",
       "      <td>3.324679</td>\n",
       "      <td>0.534152</td>\n",
       "      <td>0.000282</td>\n",
       "      <td>96.200515</td>\n",
       "    </tr>\n",
       "    <tr>\n",
       "      <th>2</th>\n",
       "      <td>6</td>\n",
       "      <td>2.565730</td>\n",
       "      <td>0.533588</td>\n",
       "      <td>0.000610</td>\n",
       "      <td>96.788330</td>\n",
       "    </tr>\n",
       "    <tr>\n",
       "      <th>3</th>\n",
       "      <td>9</td>\n",
       "      <td>39.397724</td>\n",
       "      <td>6.224318</td>\n",
       "      <td>0.071176</td>\n",
       "      <td>53.384587</td>\n",
       "    </tr>\n",
       "    <tr>\n",
       "      <th>4</th>\n",
       "      <td>24</td>\n",
       "      <td>48.565392</td>\n",
       "      <td>9.671255</td>\n",
       "      <td>0.016808</td>\n",
       "      <td>41.637667</td>\n",
       "    </tr>\n",
       "    <tr>\n",
       "      <th>5</th>\n",
       "      <td>48</td>\n",
       "      <td>55.819514</td>\n",
       "      <td>28.360032</td>\n",
       "      <td>0.039438</td>\n",
       "      <td>16.028959</td>\n",
       "    </tr>\n",
       "    <tr>\n",
       "      <th>6</th>\n",
       "      <td>72</td>\n",
       "      <td>35.193669</td>\n",
       "      <td>20.012207</td>\n",
       "      <td>0.028123</td>\n",
       "      <td>43.389893</td>\n",
       "    </tr>\n",
       "    <tr>\n",
       "      <th>7</th>\n",
       "      <td>96</td>\n",
       "      <td>47.991756</td>\n",
       "      <td>30.288180</td>\n",
       "      <td>0.048546</td>\n",
       "      <td>21.646635</td>\n",
       "    </tr>\n",
       "  </tbody>\n",
       "</table>\n",
       "</div>"
      ],
      "text/plain": [
       "    t          C          M        Ch          S\n",
       "0   1   0.458656   0.751390  0.000000  98.743004\n",
       "1   3   3.324679   0.534152  0.000282  96.200515\n",
       "2   6   2.565730   0.533588  0.000610  96.788330\n",
       "3   9  39.397724   6.224318  0.071176  53.384587\n",
       "4  24  48.565392   9.671255  0.016808  41.637667\n",
       "5  48  55.819514  28.360032  0.039438  16.028959\n",
       "6  72  35.193669  20.012207  0.028123  43.389893\n",
       "7  96  47.991756  30.288180  0.048546  21.646635"
      ]
     },
     "execution_count": 4,
     "metadata": {},
     "output_type": "execute_result"
    }
   ],
   "source": [
    "df"
   ]
  },
  {
   "cell_type": "code",
   "execution_count": 5,
   "metadata": {},
   "outputs": [],
   "source": [
    "data = {0: list(df.C),\n",
    " 1: list(df.M),\n",
    " 2: list(df.Ch),\n",
    " 3: list(df.S)}\n",
    "\n",
    "x = list(df['t'])"
   ]
  },
  {
   "cell_type": "code",
   "execution_count": 6,
   "metadata": {},
   "outputs": [],
   "source": [
    "names = ['c', 'm', 'ch', 's']"
   ]
  },
  {
   "cell_type": "code",
   "execution_count": 7,
   "metadata": {},
   "outputs": [
    {
     "data": {
      "text/plain": [
       "[<matplotlib.lines.Line2D at 0x7fe87b19ba10>]"
      ]
     },
     "execution_count": 7,
     "metadata": {},
     "output_type": "execute_result"
    },
    {
     "data": {
      "image/png": "[encoded data removed]",
      "text/plain": [
       "<Figure size 720x144 with 1 Axes>"
      ]
     },
     "metadata": {
      "needs_background": "light"
     },
     "output_type": "display_data"
    }
   ],
   "source": [
    "model = LADRegression()\n",
    "model.fit(X=np.array(x).reshape(-1, 1), y=np.log(np.array(data[3])))\n",
    "k1 = -np.array(model.coef_)\n",
    "plt.figure(figsize=(10, 2))\n",
    "plt.rcParams['font.family'] = 'sans-serif'\n",
    "plt.title(f'K1 = {round(k1[0], 3)}')\n",
    "plt.scatter(np.array(x).reshape(-1, 1), np.log(np.array(data[3])))\n",
    "plt.xlabel('Time (hours)')\n",
    "plt.ylabel('log(cells-free zone area)')\n",
    "plt.plot(np.linspace(0, 100, 100), -k1*np.linspace(0, 100, 100)+ model.intercept_)\n",
    "#plt.savefig('rate_constants_si.png', dpi=300, bbox_inches='tight')"
   ]
  },
  {
   "cell_type": "code",
   "execution_count": 8,
   "metadata": {},
   "outputs": [
    {
     "data": {
      "text/plain": [
       "<matplotlib.legend.Legend at 0x7fe87b041350>"
      ]
     },
     "execution_count": 8,
     "metadata": {},
     "output_type": "execute_result"
    },
    {
     "data": {
      "image/png": "[encoded data removed]",
      "text/plain": [
       "<Figure size 432x288 with 1 Axes>"
      ]
     },
     "metadata": {
      "needs_background": "light"
     },
     "output_type": "display_data"
    }
   ],
   "source": [
    "x_all = np.linspace(0, 100, 100)\n",
    "\n",
    "plt.scatter(x, np.array(data[3])/100, c='orangered', label='Substrate')\n",
    "plt.plot(x_all, np.exp(-k1*np.array(x_all)), c='orangered')\n",
    "\n",
    "plt.legend()"
   ]
  },
  {
   "cell_type": "code",
   "execution_count": 10,
   "metadata": {},
   "outputs": [],
   "source": [
    "def b(k2):\n",
    "    c_b = (k1/(k2-k1))*(np.exp(-k1*x)-np.exp(-k2*x))\n",
    "    return ((np.array(data[0])/100-c_b)**2).sum()"
   ]
  },
  {
   "cell_type": "code",
   "execution_count": 11,
   "metadata": {},
   "outputs": [],
   "source": [
    "k2 = minimize(b, 0.015).x[0]"
   ]
  },
  {
   "cell_type": "code",
   "execution_count": 12,
   "metadata": {},
   "outputs": [],
   "source": [
    "mpl.style.use('seaborn')\n",
    "plt.rcParams['font.family'] = 'sans-serif'\n",
    "plt.rcParams['font.size'] = 15"
   ]
  },
  {
   "cell_type": "code",
   "execution_count": 16,
   "metadata": {},
   "outputs": [],
   "source": [
    "k1 = k1[0]"
   ]
  },
  {
   "cell_type": "code",
   "execution_count": 17,
   "metadata": {},
   "outputs": [],
   "source": [
    "gamma = k2/k1"
   ]
  },
  {
   "cell_type": "code",
   "execution_count": 18,
   "metadata": {},
   "outputs": [
    {
     "data": {
      "text/plain": [
       "61.62970236551067"
      ]
     },
     "execution_count": 18,
     "metadata": {},
     "output_type": "execute_result"
    }
   ],
   "source": [
    "\n",
    "np.log(gamma)/((gamma - 1)*(k1))"
   ]
  },
  {
   "cell_type": "code",
   "execution_count": 20,
   "metadata": {},
   "outputs": [
    {
     "data": {
      "image/png": "[encoded data removed]",
      "text/plain": [
       "<Figure size 720x288 with 1 Axes>"
      ]
     },
     "metadata": {},
     "output_type": "display_data"
    }
   ],
   "source": [
    "x_all = np.linspace(0, 100, 100)\n",
    "\n",
    "plt.figure(figsize=(10, 4))\n",
    "\n",
    "plt.plot(x_all, np.exp(-k1*np.array(x_all)), c='orangered', linewidth=4, alpha=0.5)\n",
    "plt.scatter(x, np.array(data[3])/100, c='orangered', label='Cells-free zone', marker='o', s=50)\n",
    "\n",
    "\n",
    "plt.plot(x_all, (k1/(k2-k1))*(np.exp(-k1*x_all)-np.exp(-k2*x_all)), c='gold', linewidth=4, alpha=0.5)\n",
    "plt.scatter(x, np.array(data[0])/100, c='gold', label='Cells', marker='o', s=50)\n",
    "\n",
    "plt.plot(x_all, -(np.exp(-k2*x_all)*k1 - np.exp(-k1*x_all)*k2)/(k1 - k2)+1, c='green', linewidth=4, alpha=0.5)\n",
    "plt.scatter(x, np.array(data[1])/100, c='green', label='Matrix', marker='o', s=50)\n",
    "\n",
    "plt.xlabel('Time, h')\n",
    "plt.ylabel('Area ratio')\n",
    "plt.legend()\n",
    "\n",
    "plt.xticks([1, 3, 6, 9, 24, 48, 72, 96])\n",
    "plt.show()\n",
    "#plt.savefig('kinetics.png', dpi=300, bbox_inches='tight')"
   ]
  },
  {
   "cell_type": "code",
   "execution_count": 21,
   "metadata": {},
   "outputs": [
    {
     "data": {
      "text/plain": [
       "0.022107388638073225"
      ]
     },
     "execution_count": 21,
     "metadata": {},
     "output_type": "execute_result"
    }
   ],
   "source": [
    "k1"
   ]
  },
  {
   "cell_type": "code",
   "execution_count": 22,
   "metadata": {},
   "outputs": [
    {
     "data": {
      "text/plain": [
       "0.011493477312332467"
      ]
     },
     "execution_count": 22,
     "metadata": {},
     "output_type": "execute_result"
    }
   ],
   "source": [
    "k2"
   ]
  }
 ],
 "metadata": {
  "kernelspec": {
   "display_name": "Python 3 (ipykernel)",
   "language": "python",
   "name": "python3"
  },
  "language_info": {
   "codemirror_mode": {
    "name": "ipython",
    "version": 3
   },
   "file_extension": ".py",
   "mimetype": "text/x-python",
   "name": "python",
   "nbconvert_exporter": "python",
   "pygments_lexer": "ipython3",
   "version": "3.7.6"
  }
 },
 "nbformat": 4,
 "nbformat_minor": 4
}
